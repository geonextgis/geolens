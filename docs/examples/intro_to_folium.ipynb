{
 "cells": [
  {
   "cell_type": "markdown",
   "id": "baec0de2-d61f-4cdd-bc40-7c9f8bbfece1",
   "metadata": {},
   "source": [
    "[![image](https://colab.research.google.com/assets/colab-badge.svg)](https://colab.research.google.com/github/geonextgis/geolens/blob/main/docs/examples/intro_to_folium.ipynb)"
   ]
  },
  {
   "cell_type": "code",
   "execution_count": 1,
   "id": "de015d7b-47c2-43e2-a5d6-58d23a576769",
   "metadata": {},
   "outputs": [],
   "source": [
    "import folium"
   ]
  }
 ],
 "metadata": {
  "kernelspec": {
   "display_name": "Python 3 (ipykernel)",
   "language": "python",
   "name": "python3"
  },
  "language_info": {
   "codemirror_mode": {
    "name": "ipython",
    "version": 3
   },
   "file_extension": ".py",
   "mimetype": "text/x-python",
   "name": "python",
   "nbconvert_exporter": "python",
   "pygments_lexer": "ipython3",
   "version": "3.10.10"
  }
 },
 "nbformat": 4,
 "nbformat_minor": 5
}
