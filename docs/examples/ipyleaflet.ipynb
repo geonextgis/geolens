{
 "cells": [
  {
   "cell_type": "code",
   "execution_count": 1,
   "id": "0ec193f0-61ee-4c18-a6a6-44b1131f8dcd",
   "metadata": {},
   "outputs": [],
   "source": [
    "from ipyleaflet import Map, basemaps, basemap_to_tiles"
   ]
  },
  {
   "cell_type": "code",
   "execution_count": 2,
   "id": "e25ccfe9-05b3-4ffe-b87e-384824f92337",
   "metadata": {},
   "outputs": [],
   "source": [
    "Map = Map(\n",
    "\t  basemap=basemap_to_tiles(basemaps.OpenTopoMap, \"2023-05-01\"),\n",
    "      center=(52.204793, 360.121558),\n",
    "      zoom=4\n",
    ")"
   ]
  },
  {
   "cell_type": "code",
   "execution_count": 3,
   "id": "dc07ff34-624b-481c-9a03-ab315082deea",
   "metadata": {},
   "outputs": [
    {
     "data": {
      "application/vnd.jupyter.widget-view+json": {
       "model_id": "8431b876abd5450d94f0c93b42e31edb",
       "version_major": 2,
       "version_minor": 0
      },
      "text/plain": [
       "Map(center=[52.204793, 360.121558], controls=(ZoomControl(options=['position', 'zoom_in_text', 'zoom_in_title'…"
      ]
     },
     "metadata": {},
     "output_type": "display_data"
    }
   ],
   "source": [
    "Map"
   ]
  },
  {
   "cell_type": "code",
   "execution_count": 4,
   "id": "ee16b6fd-28d6-4676-a227-20434d4e05b1",
   "metadata": {},
   "outputs": [],
   "source": [
    "import leafmap"
   ]
  },
  {
   "cell_type": "code",
   "execution_count": 5,
   "id": "18225e5e-0465-4c19-bcf0-f4dee6c11690",
   "metadata": {},
   "outputs": [
    {
     "data": {
      "application/vnd.jupyter.widget-view+json": {
       "model_id": "ac28fdb15208471a8071534d988fde6c",
       "version_major": 2,
       "version_minor": 0
      },
      "text/plain": [
       "Map(center=[20, 0], controls=(ZoomControl(options=['position', 'zoom_in_text', 'zoom_in_title', 'zoom_out_text…"
      ]
     },
     "metadata": {},
     "output_type": "display_data"
    }
   ],
   "source": [
    "Map = leafmap.Map()\n",
    "Map.add_basemap(\"HYBRID\")\n",
    "Map"
   ]
  }
 ],
 "metadata": {
  "kernelspec": {
   "display_name": "Python 3 (ipykernel)",
   "language": "python",
   "name": "python3"
  },
  "language_info": {
   "codemirror_mode": {
    "name": "ipython",
    "version": 3
   },
   "file_extension": ".py",
   "mimetype": "text/x-python",
   "name": "python",
   "nbconvert_exporter": "python",
   "pygments_lexer": "ipython3",
   "version": "3.10.10"
  }
 },
 "nbformat": 4,
 "nbformat_minor": 5
}
